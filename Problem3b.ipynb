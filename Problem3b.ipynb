{
 "cells": [
  {
   "cell_type": "markdown",
   "id": "ed73e23a",
   "metadata": {},
   "source": [
    "Makayla Shortino & Aadhya Shah\n",
    "Problem 1.3 (b)"
   ]
  },
  {
   "cell_type": "code",
   "execution_count": 20,
   "id": "6e5b06bc",
   "metadata": {},
   "outputs": [
    {
     "name": "stdout",
     "output_type": "stream",
     "text": [
      "0.6210000000000001\n"
     ]
    }
   ],
   "source": [
    "import numpy as np\n",
    "import pandas as pd\n",
    "import mae\n",
    "\n",
    "y_vals = [-.44, -.78, -0.98, -0.95, -0.35, 0.06, 0.30, 0.95, 0.71, 0.69]\n",
    "true_vals = np.array(y_vals)\n",
    "pred_vals = np.zeros(10)\n",
    "\n",
    "meanAbsError = mae.MAE(true_vals, pred_vals)\n",
    "print (meanAbsError)"
   ]
  },
  {
   "cell_type": "markdown",
   "id": "21354b05",
   "metadata": {},
   "source": [
    "(b) The MAE for the function is 0.621"
   ]
  },
  {
   "cell_type": "code",
   "execution_count": null,
   "id": "80564443",
   "metadata": {},
   "outputs": [
    {
     "ename": "AttributeError",
     "evalue": "module 'mae' has no attribute 'predict'",
     "output_type": "error",
     "traceback": [
      "\u001b[31m---------------------------------------------------------------------------\u001b[39m",
      "\u001b[31mAttributeError\u001b[39m                            Traceback (most recent call last)",
      "\u001b[36mCell\u001b[39m\u001b[36m \u001b[39m\u001b[32mIn[21]\u001b[39m\u001b[32m, line 7\u001b[39m\n\u001b[32m      4\u001b[39m y_predList = []\n\u001b[32m      6\u001b[39m \u001b[38;5;28;01mfor\u001b[39;00m i \u001b[38;5;129;01min\u001b[39;00m x_vals:\n\u001b[32m----> \u001b[39m\u001b[32m7\u001b[39m     y = \u001b[43mmae\u001b[49m\u001b[43m.\u001b[49m\u001b[43mpredict\u001b[49m(i)\n\u001b[32m      8\u001b[39m     y_predList.append(y)\n\u001b[32m     10\u001b[39m y_predC = np.array(y_predList)\n",
      "\u001b[31mAttributeError\u001b[39m: module 'mae' has no attribute 'predict'"
     ]
    }
   ],
   "source": [
    "\n",
    "import mae \n",
    "\n",
    "x_vals = [-2.69, -2.25, -1.76, -1.25, -0.36, 0.06, 0.30, 1.25, 2.36, 2.38]\n",
    "y_predList = []\n",
    "\n",
    "for i in x_vals:\n",
    "    y = mae.Predict(i)\n",
    "    y_predList.append(y)\n",
    "\n",
    "y_predC = np.array(y_predList)\n",
    "\n",
    "print(mae.MAE(true_vals, y_predC))\n"
   ]
  }
 ],
 "metadata": {
  "kernelspec": {
   "display_name": "Python 3",
   "language": "python",
   "name": "python3"
  },
  "language_info": {
   "codemirror_mode": {
    "name": "ipython",
    "version": 3
   },
   "file_extension": ".py",
   "mimetype": "text/x-python",
   "name": "python",
   "nbconvert_exporter": "python",
   "pygments_lexer": "ipython3",
   "version": "3.12.1"
  }
 },
 "nbformat": 4,
 "nbformat_minor": 5
}
