{
 "cells": [
  {
   "cell_type": "markdown",
   "id": "ed73e23a",
   "metadata": {},
   "source": [
    "Makayla Shortino & Aadhya Shah\n",
    "Problem 1.3 (b)"
   ]
  },
  {
   "cell_type": "code",
   "execution_count": 4,
   "id": "6e5b06bc",
   "metadata": {},
   "outputs": [
    {
     "name": "stdout",
     "output_type": "stream",
     "text": [
      "0.6210000000000001\n"
     ]
    }
   ],
   "source": [
    "import numpy as np\n",
    "import pandas as pd\n",
    "import mae\n",
    "\n",
    "y_vals = [-.44, -.78, -0.98, -0.95, -0.35, 0.06, 0.30, 0.95, 0.71, 0.69]\n",
    "true_vals = np.array(y_vals)\n",
    "pred_vals = np.zeros(10)\n",
    "\n",
    "meanAbsError = mae.MAE(true_vals, pred_vals)\n",
    "print (meanAbsError)"
   ]
  },
  {
   "cell_type": "markdown",
   "id": "21354b05",
   "metadata": {},
   "source": [
    "(b) The MAE for the function is 0.621"
   ]
  },
  {
   "cell_type": "code",
   "execution_count": null,
   "id": "80564443",
   "metadata": {},
   "outputs": [],
   "source": []
  }
 ],
 "metadata": {
  "kernelspec": {
   "display_name": "Python 3",
   "language": "python",
   "name": "python3"
  },
  "language_info": {
   "codemirror_mode": {
    "name": "ipython",
    "version": 3
   },
   "file_extension": ".py",
   "mimetype": "text/x-python",
   "name": "python",
   "nbconvert_exporter": "python",
   "pygments_lexer": "ipython3",
   "version": "3.12.1"
  }
 },
 "nbformat": 4,
 "nbformat_minor": 5
}
